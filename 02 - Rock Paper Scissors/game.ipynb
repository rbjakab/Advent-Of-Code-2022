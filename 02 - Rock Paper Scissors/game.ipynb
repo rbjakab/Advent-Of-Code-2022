{
 "cells": [
  {
   "cell_type": "code",
   "execution_count": 1,
   "metadata": {},
   "outputs": [],
   "source": [
    "import numpy as np\n",
    "import itertools"
   ]
  },
  {
   "cell_type": "markdown",
   "metadata": {},
   "source": [
    "# Part One"
   ]
  },
  {
   "cell_type": "code",
   "execution_count": 2,
   "metadata": {},
   "outputs": [],
   "source": [
    "f = open(\"input.txt\", \"r\")\n",
    "\n",
    "input = f.read()\n",
    "\n",
    "f.close()"
   ]
  },
  {
   "cell_type": "markdown",
   "metadata": {},
   "source": [
    "### Create input array by splitting up the input file"
   ]
  },
  {
   "cell_type": "code",
   "execution_count": 3,
   "metadata": {},
   "outputs": [],
   "source": [
    "input_list = [chunk.split(\" \") for chunk in input.split(\"\\n\")]"
   ]
  },
  {
   "cell_type": "markdown",
   "metadata": {},
   "source": [
    "### Remove the EOF from the array"
   ]
  },
  {
   "cell_type": "code",
   "execution_count": 4,
   "metadata": {},
   "outputs": [],
   "source": [
    "input_list = input_list[:-1]"
   ]
  },
  {
   "cell_type": "markdown",
   "metadata": {},
   "source": [
    "### Convert to NumPy"
   ]
  },
  {
   "cell_type": "code",
   "execution_count": 5,
   "metadata": {},
   "outputs": [],
   "source": [
    "input_array = np.array(input_list)"
   ]
  },
  {
   "cell_type": "code",
   "execution_count": 7,
   "metadata": {},
   "outputs": [],
   "source": [
    "def get_unique_combinations():\n",
    "    # initialize lists\n",
    "    list_1 = ['X', 'Y', 'Z']\n",
    "    list_2 = ['A', 'B', 'C']\n",
    "\n",
    "    # create empty list to store the combinations\n",
    "    unique_combinations = []\n",
    "\n",
    "    # Getting all permutations of list_1\n",
    "    # with length of list_2\n",
    "    permut = itertools.permutations(list_1, len(list_2))\n",
    "\n",
    "    # zip() is called to pair each permutation\n",
    "    # and shorter list element into combination\n",
    "    for comb in permut:\n",
    "        zipped = zip(comb, list_2)\n",
    "        unique_combinations.append(list(zipped))\n",
    "\n",
    "    return unique_combinations"
   ]
  },
  {
   "cell_type": "markdown",
   "metadata": {},
   "source": [
    "### Notes\n",
    "\n",
    "- A = Rock\n",
    "- B = Paper\n",
    "- C = Scissor"
   ]
  },
  {
   "cell_type": "code",
   "execution_count": 8,
   "metadata": {},
   "outputs": [],
   "source": [
    "\"\"\"\n",
    "-1: action1 won\n",
    "0: draw/tie\n",
    "1: action2 won\n",
    "\"\"\"\n",
    "def game_round(action1, action2):\n",
    "    if action1 == action2:\n",
    "        return 0\n",
    "    elif action1 == \"A\":\n",
    "        if action2 == \"C\":\n",
    "            return -1\n",
    "        else:\n",
    "            return 1\n",
    "    elif action1 == \"B\":\n",
    "        if action2 == \"A\":\n",
    "            return -1\n",
    "        else:\n",
    "            return 1\n",
    "    elif action1 == \"C\":\n",
    "        if action2 == \"B\":\n",
    "            return -1\n",
    "        else:\n",
    "            return 1"
   ]
  },
  {
   "cell_type": "code",
   "execution_count": 9,
   "metadata": {},
   "outputs": [
    {
     "name": "stdout",
     "output_type": "stream",
     "text": [
      "[('X', 'A'), ('Y', 'B'), ('Z', 'C')] 11873\n",
      "[('X', 'A'), ('Z', 'B'), ('Y', 'C')] 13215\n",
      "[('Y', 'A'), ('X', 'B'), ('Z', 'C')] 11599\n",
      "[('Y', 'A'), ('Z', 'B'), ('X', 'C')] 11821\n",
      "[('Z', 'A'), ('X', 'B'), ('Y', 'C')] 13806\n",
      "[('Z', 'A'), ('Y', 'B'), ('X', 'C')] 12686\n"
     ]
    }
   ],
   "source": [
    "scores = []\n",
    "\n",
    "for combination in get_unique_combinations():\n",
    "    score = 0\n",
    "    copied_input_array = input_array.copy()\n",
    "\n",
    "    copied_input_array[:, 1] = np.where(copied_input_array[:, 1] == combination[0][0], combination[0][1], copied_input_array[:, 1])\n",
    "    copied_input_array[:, 1] = np.where(copied_input_array[:, 1] == combination[1][0], combination[1][1], copied_input_array[:, 1])\n",
    "    copied_input_array[:, 1] = np.where(copied_input_array[:, 1] == combination[2][0], combination[2][1], copied_input_array[:, 1])\n",
    "    \n",
    "    results = []\n",
    "    \n",
    "    for row in copied_input_array:\n",
    "        results.append(game_round(row[0], row[1]))\n",
    "        \n",
    "    results_array = np.array(results)\n",
    "    \n",
    "    # won this many times\n",
    "    score += np.count_nonzero(results_array == 1) * 6\n",
    "    \n",
    "    # tie this many times\n",
    "    score += np.count_nonzero(results_array == 0) * 3\n",
    "    \n",
    "    # chose rock this many times\n",
    "    score += np.count_nonzero(copied_input_array[:, 1] == 'A')\n",
    "    \n",
    "    # chose paper this many times\n",
    "    score += np.count_nonzero(copied_input_array[:, 1] == 'B') * 2\n",
    "    \n",
    "    # chose scissor this many times\n",
    "    score += np.count_nonzero(copied_input_array[:, 1] == 'C') * 3\n",
    "    \n",
    "    print(combination, score)"
   ]
  },
  {
   "cell_type": "markdown",
   "metadata": {},
   "source": [
    "# Part Two"
   ]
  },
  {
   "cell_type": "markdown",
   "metadata": {},
   "source": [
    "### Notes\n",
    "\n",
    "- A = Rock\n",
    "- B = Paper\n",
    "- C = Scissor"
   ]
  },
  {
   "cell_type": "code",
   "execution_count": 10,
   "metadata": {},
   "outputs": [],
   "source": [
    "def get_shape_name(action):\n",
    "    if action == 'A':\n",
    "        return 'Rock'\n",
    "    \n",
    "    if action == 'B':\n",
    "        return 'Paper'\n",
    "    \n",
    "    return 'Scissor'\n",
    "\n",
    "def get_result_name(result):\n",
    "    if result == 'X':\n",
    "        return 'Loose'\n",
    "    \n",
    "    if result == 'Y':\n",
    "        return 'Draw'\n",
    "    \n",
    "    return 'Win'"
   ]
  },
  {
   "cell_type": "code",
   "execution_count": 11,
   "metadata": {},
   "outputs": [],
   "source": [
    "def get_shape(action1, result):\n",
    "    game = ['A', 'B', 'C']\n",
    "    \n",
    "    # draw\n",
    "    if result == 'Y':\n",
    "        return action1\n",
    "    \n",
    "    # win\n",
    "    if result == 'Z':\n",
    "        return game[(game.index(action1) + 1) % 3]\n",
    "\n",
    "    # loose\n",
    "    if result == 'X':\n",
    "        return game[game.index(action1) - 1]"
   ]
  },
  {
   "cell_type": "code",
   "execution_count": 12,
   "metadata": {},
   "outputs": [
    {
     "name": "stdout",
     "output_type": "stream",
     "text": [
      "Rock Loose Scissor\n",
      "Paper Loose Rock\n",
      "Scissor Loose Paper\n",
      "Scissor Draw Scissor\n",
      "Paper Draw Paper\n",
      "Scissor Win Rock\n",
      "Scissor Loose Paper\n",
      "Scissor Draw Scissor\n",
      "Scissor Draw Scissor\n",
      "Paper Draw Paper\n"
     ]
    }
   ],
   "source": [
    "shapes = []\n",
    "\n",
    "for idx, row in enumerate(input_array):\n",
    "    action1 = row[0]\n",
    "    result  = row[1]\n",
    "    shape   = get_shape(action1, result)\n",
    "    \n",
    "    if idx < 10:\n",
    "        print(get_shape_name(action1), get_result_name(result), get_shape_name(shape))\n",
    "    \n",
    "    shapes.append(shape)"
   ]
  },
  {
   "cell_type": "code",
   "execution_count": 13,
   "metadata": {},
   "outputs": [
    {
     "data": {
      "text/plain": [
       "12014"
      ]
     },
     "execution_count": 13,
     "metadata": {},
     "output_type": "execute_result"
    }
   ],
   "source": [
    "score = 0\n",
    "shapes_array = np.array(shapes)\n",
    "\n",
    "# won this many times\n",
    "score += np.count_nonzero(input_array[:, 1] == 'Z') * 6\n",
    "\n",
    "# tie this many times\n",
    "score += np.count_nonzero(input_array[:, 1] == 'Y') * 3\n",
    "\n",
    "# chose rock this many times\n",
    "score += np.count_nonzero(shapes_array == 'A')\n",
    "\n",
    "# chose paper this many times\n",
    "score += np.count_nonzero(shapes_array == 'B') * 2\n",
    "\n",
    "# chose scissor this many times\n",
    "score += np.count_nonzero(shapes_array == 'C') * 3\n",
    "\n",
    "score"
   ]
  }
 ],
 "metadata": {
  "kernelspec": {
   "display_name": "Python 3.8.13 ('base')",
   "language": "python",
   "name": "python3"
  },
  "language_info": {
   "codemirror_mode": {
    "name": "ipython",
    "version": 3
   },
   "file_extension": ".py",
   "mimetype": "text/x-python",
   "name": "python",
   "nbconvert_exporter": "python",
   "pygments_lexer": "ipython3",
   "version": "3.8.13"
  },
  "orig_nbformat": 4,
  "vscode": {
   "interpreter": {
    "hash": "1df101763e55737d5ef804aacc547e5ca04d2bbf397d1b94a85fd76fabc42a4d"
   }
  }
 },
 "nbformat": 4,
 "nbformat_minor": 2
}
